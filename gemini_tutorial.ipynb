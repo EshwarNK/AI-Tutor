{
 "cells": [
  {
   "cell_type": "code",
   "execution_count": 8,
   "metadata": {},
   "outputs": [],
   "source": [
    "# This code imports the SDK library for using Gemini, make sure you have the SDK installed first.\n",
    "# and another library to display formatted text like Markdown.\n",
    "\n",
    "import google.generativeai as genai\n",
    "from IPython.display import HTML, Markdown, display"
   ]
  },
  {
   "cell_type": "code",
   "execution_count": null,
   "metadata": {},
   "outputs": [],
   "source": [
    "# This line sets up the API key so we can connect to the Gemini API.\n",
    "\n",
    "genai.configure(api_key=\"\") # Make sure to keep your API key secret."
   ]
  },
  {
   "cell_type": "code",
   "execution_count": 3,
   "metadata": {},
   "outputs": [
    {
     "name": "stdout",
     "output_type": "stream",
     "text": [
      "Generative AI's capabilities are rapidly expanding, but generally fall under these categories:\n",
      "\n",
      "**1. Content Creation:**\n",
      "\n",
      "* **Text:**  Generating articles, summaries, poems, code, scripts, musical pieces, email, letters, etc.  This includes translation and paraphrasing.\n",
      "* **Images:** Creating photorealistic images, stylized art, illustrations, logos, and even manipulating existing images.\n",
      "* **Audio:** Generating music, sound effects, voiceovers, and speech.\n",
      "* **Video:**  Creating short videos, animations, and potentially longer-form video content (still in early stages).\n",
      "* **3D Models:** Designing and generating three-dimensional objects and environments.\n",
      "\n",
      "**2. Data Augmentation and Synthesis:**\n",
      "\n",
      "* **Expanding datasets:** Creating synthetic data to supplement real-world data, particularly useful when real data is scarce or expensive to collect. This is crucial for training machine learning models.\n",
      "* **Generating diverse data samples:**  Creating variations of existing data points to improve model robustness and generalization.\n",
      "\n",
      "**3. Problem Solving and Design:**\n",
      "\n",
      "* **Idea generation:**  Helping brainstorm solutions to problems, design new products, and explore innovative concepts.\n",
      "* **Creative exploration:**  Assisting artists, designers, and engineers in exploring different design options and styles.\n",
      "* **Scientific discovery:**  Potentially accelerating scientific breakthroughs by generating hypotheses, analyzing data, and designing experiments.\n",
      "\n",
      "**4. Personalization and Customization:**\n",
      "\n",
      "* **Tailored experiences:** Creating personalized content, recommendations, and interfaces based on user preferences and needs.\n",
      "* **Adaptive systems:** Building systems that dynamically adjust their behavior based on user interactions.\n",
      "\n",
      "\n",
      "**Limitations:**\n",
      "\n",
      "Despite its impressive capabilities, generative AI also has significant limitations:\n",
      "\n",
      "* **Bias and fairness:** Models can inherit and amplify biases present in their training data, leading to unfair or discriminatory outputs.\n",
      "* **Hallucinations:** Models can generate outputs that are factually incorrect or nonsensical.\n",
      "* **Lack of common sense and reasoning:**  Models often struggle with tasks requiring real-world knowledge, logical reasoning, and common sense.\n",
      "* **Ethical concerns:**  Potential misuse for generating deepfakes, misinformation, and malicious content.\n",
      "* **Computational cost:** Training and running generative AI models can be computationally expensive and resource-intensive.\n",
      "\n",
      "\n",
      "The capabilities of generative AI are constantly evolving.  New models and techniques are being developed regularly, pushing the boundaries of what's possible.  However, it's important to be aware of the limitations and potential risks associated with this powerful technology.\n",
      "\n"
     ]
    }
   ],
   "source": [
    "# This code creates an instance of the Gemini 1.5 flash model\n",
    "# and asks it a question to generate a response.\n",
    "\n",
    "flash = genai.GenerativeModel('gemini-1.5-flash')\n",
    "response = flash.generate_content(\"What are the capabilities of generative AI?\")\n",
    "\n",
    "# Let's print the text from the response\n",
    "\n",
    "print(response.text)"
   ]
  },
  {
   "cell_type": "code",
   "execution_count": 4,
   "metadata": {},
   "outputs": [
    {
     "data": {
      "text/markdown": [
       "Generative AI's capabilities are rapidly expanding, but generally fall under these categories:\n",
       "\n",
       "**1. Content Creation:**\n",
       "\n",
       "* **Text:**  Generating articles, summaries, poems, code, scripts, musical pieces, email, letters, etc.  This includes translation and paraphrasing.\n",
       "* **Images:** Creating photorealistic images, stylized art, illustrations, logos, and even manipulating existing images.\n",
       "* **Audio:** Generating music, sound effects, voiceovers, and speech.\n",
       "* **Video:**  Creating short videos, animations, and potentially longer-form video content (still in early stages).\n",
       "* **3D Models:** Designing and generating three-dimensional objects and environments.\n",
       "\n",
       "**2. Data Augmentation and Synthesis:**\n",
       "\n",
       "* **Expanding datasets:** Creating synthetic data to supplement real-world data, particularly useful when real data is scarce or expensive to collect. This is crucial for training machine learning models.\n",
       "* **Generating diverse data samples:**  Creating variations of existing data points to improve model robustness and generalization.\n",
       "\n",
       "**3. Problem Solving and Design:**\n",
       "\n",
       "* **Idea generation:**  Helping brainstorm solutions to problems, design new products, and explore innovative concepts.\n",
       "* **Creative exploration:**  Assisting artists, designers, and engineers in exploring different design options and styles.\n",
       "* **Scientific discovery:**  Potentially accelerating scientific breakthroughs by generating hypotheses, analyzing data, and designing experiments.\n",
       "\n",
       "**4. Personalization and Customization:**\n",
       "\n",
       "* **Tailored experiences:** Creating personalized content, recommendations, and interfaces based on user preferences and needs.\n",
       "* **Adaptive systems:** Building systems that dynamically adjust their behavior based on user interactions.\n",
       "\n",
       "\n",
       "**Limitations:**\n",
       "\n",
       "Despite its impressive capabilities, generative AI also has significant limitations:\n",
       "\n",
       "* **Bias and fairness:** Models can inherit and amplify biases present in their training data, leading to unfair or discriminatory outputs.\n",
       "* **Hallucinations:** Models can generate outputs that are factually incorrect or nonsensical.\n",
       "* **Lack of common sense and reasoning:**  Models often struggle with tasks requiring real-world knowledge, logical reasoning, and common sense.\n",
       "* **Ethical concerns:**  Potential misuse for generating deepfakes, misinformation, and malicious content.\n",
       "* **Computational cost:** Training and running generative AI models can be computationally expensive and resource-intensive.\n",
       "\n",
       "\n",
       "The capabilities of generative AI are constantly evolving.  New models and techniques are being developed regularly, pushing the boundaries of what's possible.  However, it's important to be aware of the limitations and potential risks associated with this powerful technology.\n"
      ],
      "text/plain": [
       "<IPython.core.display.Markdown object>"
      ]
     },
     "execution_count": 4,
     "metadata": {},
     "output_type": "execute_result"
    }
   ],
   "source": [
    "# You may have noticed that the text has many symbols,\n",
    "# this is because it is in markdown format.\n",
    "\n",
    "Markdown(response.text)"
   ]
  },
  {
   "cell_type": "code",
   "execution_count": 5,
   "metadata": {},
   "outputs": [
    {
     "data": {
      "text/markdown": [
       "It's nice to meet you, Zlork!  How can I help you today?\n"
      ],
      "text/plain": [
       "<IPython.core.display.Markdown object>"
      ]
     },
     "execution_count": 5,
     "metadata": {},
     "output_type": "execute_result"
    }
   ],
   "source": [
    "# We can use a chat to save details rather than sending individual prompts.\n",
    "\n",
    "chat = flash.start_chat(history=[])\n",
    "response = chat.send_message('Hello! My name is Zlork.')\n",
    "Markdown(response.text)"
   ]
  },
  {
   "cell_type": "code",
   "execution_count": 6,
   "metadata": {},
   "outputs": [
    {
     "data": {
      "text/markdown": [
       "Yes, your name is Zlork.\n"
      ],
      "text/plain": [
       "<IPython.core.display.Markdown object>"
      ]
     },
     "execution_count": 6,
     "metadata": {},
     "output_type": "execute_result"
    }
   ],
   "source": [
    "# Since we are using a chat, Gemini will remember information from previous prompts.\n",
    "\n",
    "response = chat.send_message('Do you remember what my name is?')\n",
    "Markdown(response.text)"
   ]
  },
  {
   "cell_type": "code",
   "execution_count": 7,
   "metadata": {},
   "outputs": [
    {
     "name": "stdout",
     "output_type": "stream",
     "text": [
      "models/chat-bison-001\n",
      "models/text-bison-001\n",
      "models/embedding-gecko-001\n",
      "models/gemini-1.0-pro-vision-latest\n",
      "models/gemini-pro-vision\n",
      "models/gemini-1.5-pro-latest\n",
      "models/gemini-1.5-pro-001\n",
      "models/gemini-1.5-pro-002\n",
      "models/gemini-1.5-pro\n",
      "models/gemini-1.5-flash-latest\n",
      "models/gemini-1.5-flash-001\n",
      "models/gemini-1.5-flash-001-tuning\n",
      "models/gemini-1.5-flash\n",
      "models/gemini-1.5-flash-002\n",
      "models/gemini-1.5-flash-8b\n",
      "models/gemini-1.5-flash-8b-001\n",
      "models/gemini-1.5-flash-8b-latest\n",
      "models/gemini-1.5-flash-8b-exp-0827\n",
      "models/gemini-1.5-flash-8b-exp-0924\n",
      "models/gemini-2.5-pro-exp-03-25\n",
      "models/gemini-2.0-flash-exp\n",
      "models/gemini-2.0-flash\n",
      "models/gemini-2.0-flash-001\n",
      "models/gemini-2.0-flash-exp-image-generation\n",
      "models/gemini-2.0-flash-lite-001\n",
      "models/gemini-2.0-flash-lite\n",
      "models/gemini-2.0-flash-lite-preview-02-05\n",
      "models/gemini-2.0-flash-lite-preview\n",
      "models/gemini-2.0-pro-exp\n",
      "models/gemini-2.0-pro-exp-02-05\n",
      "models/gemini-exp-1206\n",
      "models/gemini-2.0-flash-thinking-exp-01-21\n",
      "models/gemini-2.0-flash-thinking-exp\n",
      "models/gemini-2.0-flash-thinking-exp-1219\n",
      "models/learnlm-1.5-pro-experimental\n",
      "models/gemma-3-4b-it\n",
      "models/gemma-3-12b-it\n",
      "models/gemma-3-27b-it\n",
      "models/embedding-001\n",
      "models/text-embedding-004\n",
      "models/gemini-embedding-exp-03-07\n",
      "models/gemini-embedding-exp\n",
      "models/aqa\n",
      "models/imagen-3.0-generate-002\n"
     ]
    }
   ],
   "source": [
    "# We can see a list of all the models offered by the Gemini API\n",
    "\n",
    "for model in genai.list_models():\n",
    "  print(model.name)"
   ]
  }
 ],
 "metadata": {
  "kernelspec": {
   "display_name": "venv",
   "language": "python",
   "name": "python3"
  },
  "language_info": {
   "codemirror_mode": {
    "name": "ipython",
    "version": 3
   },
   "file_extension": ".py",
   "mimetype": "text/x-python",
   "name": "python",
   "nbconvert_exporter": "python",
   "pygments_lexer": "ipython3",
   "version": "3.13.2"
  }
 },
 "nbformat": 4,
 "nbformat_minor": 2
}
